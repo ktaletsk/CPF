{
  "nbformat": 4,
  "nbformat_minor": 0,
  "metadata": {
    "colab": {
      "name": "ItoGenerator.ipynb",
      "version": "0.3.2",
      "provenance": [],
      "include_colab_link": true
    },
    "kernelspec": {
      "name": "python3",
      "display_name": "Python 3"
    }
  },
  "cells": [
    {
      "cell_type": "markdown",
      "metadata": {
        "id": "view-in-github",
        "colab_type": "text"
      },
      "source": [
        "[View in Colaboratory](https://colab.research.google.com/github/ktaletsk/CPF/blob/master/1D_Example/CPF_1D_toy.ipynb)"
      ]
    },
    {
      "metadata": {
        "collapsed": false,
        "id": "RY6CvZfQxKE9",
        "colab_type": "text"
      },
      "cell_type": "markdown",
      "source": [
        "# Coarse-graining of Brownian dynamics of toy model\n",
        "Predicting the first passage time using the constant probability flux (CPF) method.\n",
        " This is Jupyter notebook written in Python language. You can run each cell by pressing CTRL+SHIFT on your keyboard. Reproduce results pulished in paper and feel free to make changes and use this code in your research"
      ]
    },
    {
      "metadata": {
        "id": "vEOSjOAMUsL8",
        "colab_type": "text"
      },
      "cell_type": "markdown",
      "source": [
        "## Define variables and functions and generate simulation code"
      ]
    },
    {
      "metadata": {
        "id": "_5Ur9mXbxKE_",
        "colab_type": "code",
        "colab": {}
      },
      "cell_type": "code",
      "source": [
        "from sympy import *\n",
        "from sympy.utilities.codegen import codegen\n",
        "import numpy as np\n",
        "from IPython.display import Markdown\n",
        "import matplotlib.pyplot as plt\n",
        "# import scipy.integrate as integrate\n",
        "from IPython.display import HTML, Math"
      ],
      "execution_count": 0,
      "outputs": []
    },
    {
      "metadata": {
        "id": "H2DinAa617yc",
        "colab_type": "code",
        "colab": {}
      },
      "cell_type": "code",
      "source": [
        "def latex_print(expr):\n",
        "  display(HTML(\"<script src='https://cdnjs.cloudflare.com/ajax/libs/mathjax/2.7.3/\" \"latest.js?config=default'></script>\"))\n",
        "  return Math(latex(expr))"
      ],
      "execution_count": 0,
      "outputs": []
    },
    {
      "metadata": {
        "collapsed": false,
        "id": "cPyJuM9PxKFD",
        "colab_type": "text"
      },
      "cell_type": "markdown",
      "source": [
        "Consider a detailed dynamics, say MD, with the trajectory of some interesting species can reasonably be mapped to dynamics along a single reaction coordinate $x$.\n",
        "It might then be desirable to coarse grain these simulations to a nonlinear, stochastic differential equation.\n",
        "It is well established that such dynamics are equivalently described by a Fokker-Planck (or Smoluchowski) equation\n",
        "\n",
        "\\begin{equation}\n",
        "\\frac{\\partial p}{\\partial t} =\n",
        "    \\frac{\\partial}{\\partial x}\\frac{1}{\\zeta} \\left[ \\left(\\frac{dF^\\text{CG}}{d x}\\right) p\n",
        "    + k_\\text{B}T \\frac{\\partial p}{\\partial x}\n",
        "    \\right],\n",
        "\\end{equation}\n",
        "\n",
        "where $p\\equiv p(x;t|x_0;t_0)$ is the probability density of finding the species in the neighborhood of $x$ at time $t$, given that it had coordinate $x_0$ at some earlier time $t_0$.\n",
        "\n",
        "The equivalent Ito-form stochastic differential equation is\n",
        "\\begin{equation}\n",
        "dx = \\left( \\frac{d \\zeta^{-1}}{d x} - \\zeta^{-1} \\frac{d F}{dx} \\right) dt + \\sqrt{2 \\zeta^{-1}} d W_t\n",
        "\\end{equation}\n",
        "\n",
        "We chose free energy of our toy system in a form:\n",
        "\\begin{equation}\n",
        "\\frac{F}{k_B T} = H_0 (1-x_0)^2 + \\sum_{i=1}^{n-1} H_i (x_i - \\mu_i)^2\n",
        "\\end{equation}\n",
        "where $\\mu_i=\\frac{\\sin A(x_0-C_i)}{B_i}$ "
      ]
    },
    {
      "metadata": {
        "id": "jVfv-RqixKFE",
        "colab_type": "code",
        "colab": {}
      },
      "cell_type": "code",
      "source": [
        "#Number of dimensions\n",
        "n=1"
      ],
      "execution_count": 0,
      "outputs": []
    },
    {
      "metadata": {
        "id": "TNYnJ9IhxKFI",
        "colab_type": "code",
        "colab": {}
      },
      "cell_type": "code",
      "source": [
        "A = []\n",
        "B = []\n",
        "C = []\n",
        "H = [4]"
      ],
      "execution_count": 0,
      "outputs": []
    },
    {
      "metadata": {
        "id": "k2vmnhVJxKFN",
        "colab_type": "code",
        "colab": {}
      },
      "cell_type": "code",
      "source": [
        "#Define variables\n",
        "x = symbols('x0:%d'%n)\n",
        "\n",
        "def floor(x,A,B,C):\n",
        "    return sin(A*(x-C))/B\n",
        "\n",
        "def wall(x,y,A,B,C):\n",
        "    return (y - floor(x,A,B,C))**2\n",
        "\n",
        "def free_energy(n, x):\n",
        "    result = H[0]*(1-x[0])**2\n",
        "    for i in range(1, n):\n",
        "        result += H[i] * wall(x[0], x[i], A[i-1], B[i-1], C[i-1])\n",
        "    return result\n",
        "\n",
        "def free_energy_CG(x):\n",
        "    return H[0]*(1-x[0])**2\n",
        "\n",
        "def zeta_inv(n, x):\n",
        "    return 0.5*(1+x[0]**2)**2 #friction\n",
        "\n",
        "def tshift(n,x,i):\n",
        "    return diff(zeta_inv(n,x), x[i])-zeta_inv(n, x)*diff(free_energy(n,x), x[i])\n",
        "\n",
        "def wshift(n,x):\n",
        "    return sqrt(2.0*zeta_inv(n, x))"
      ],
      "execution_count": 0,
      "outputs": []
    },
    {
      "metadata": {
        "id": "K7SrIsKs3RDe",
        "colab_type": "text"
      },
      "cell_type": "markdown",
      "source": [
        "**Free energy of our one-dimensional toy model**"
      ]
    },
    {
      "metadata": {
        "id": "mdw4tbaKxmD7",
        "colab_type": "code",
        "colab": {}
      },
      "cell_type": "code",
      "source": [
        "latex_print(free_energy(n, x))"
      ],
      "execution_count": 0,
      "outputs": []
    },
    {
      "metadata": {
        "id": "7N6C2xRCxKFV",
        "colab_type": "code",
        "colab": {}
      },
      "cell_type": "code",
      "source": [
        "xx = MatrixSymbol('x', 1, n)\n",
        "dx = MatrixSymbol('dx', 1, n)\n",
        "dWt = MatrixSymbol('dWt', 1, n)\n",
        "dt = symbols('dt')\n",
        "subs_rule = list(zip(x,xx))\n",
        "array = [(tshift(n,x,i) * dt + wshift(n,x) * dWt[i]).subs(subs_rule) for i in range(n)]\n",
        "m = Matrix(1, n, array)\n",
        "equation = Eq(dx, m)"
      ],
      "execution_count": 0,
      "outputs": []
    },
    {
      "metadata": {
        "id": "zdjgqOGsxKFX",
        "colab_type": "code",
        "colab": {}
      },
      "cell_type": "code",
      "source": [
        "latex_print(equation)"
      ],
      "execution_count": 0,
      "outputs": []
    },
    {
      "metadata": {
        "collapsed": false,
        "id": "g1sGvw2XxKFa",
        "colab_type": "text"
      },
      "cell_type": "markdown",
      "source": [
        "**Calculate equilibrium distribution**"
      ]
    },
    {
      "metadata": {
        "id": "Zl0urGNlUjYk",
        "colab_type": "text"
      },
      "cell_type": "markdown",
      "source": [
        "\\begin{equation}\n",
        "p(x_i | x_0) = \\frac{p(x_i, x_0)}{p(x_0)}\n",
        "\\end{equation}"
      ]
    },
    {
      "metadata": {
        "id": "MxYrr2BlxKFc",
        "colab_type": "code",
        "colab": {}
      },
      "cell_type": "code",
      "source": [
        "p = symbols('p0:%d'%(n-1))\n",
        "pp = MatrixSymbol('p', 1, n)\n",
        "xx = MatrixSymbol('x', 1, n)\n",
        "xa = symbols('xa')\n",
        "\n",
        "subs_rule2 = list(zip(p,pp))\n",
        "subs_rule2.insert(0,(x[0],xa))\n",
        "\n",
        "array2 = [(floor(x[0],A[i],B[i],C[i]) + p[i]/sqrt(2*H[i+1])).subs(subs_rule2)  for i in range(0,n-1)]\n",
        "array2.insert(0,xa)\n",
        "m2 = Matrix(1, n, array2)\n",
        "equation2 = Eq(xx, m2)"
      ],
      "execution_count": 0,
      "outputs": []
    },
    {
      "metadata": {
        "scrolled": true,
        "id": "x6arP5VrxKFe",
        "colab_type": "code",
        "colab": {}
      },
      "cell_type": "code",
      "source": [
        "latex_print(equation2)"
      ],
      "execution_count": 0,
      "outputs": []
    },
    {
      "metadata": {
        "collapsed": false,
        "id": "e4qW-P1GxKFh",
        "colab_type": "text"
      },
      "cell_type": "markdown",
      "source": [
        "### Generate code for timestep and initialization"
      ]
    },
    {
      "metadata": {
        "id": "kjVJhQjwTDA-",
        "colab_type": "code",
        "colab": {}
      },
      "cell_type": "code",
      "source": [
        "#Put source files 'FPT-gen.cpp' and 'CPF-gen.cpp' in the same folder as this notebook (for Google Colab)\n",
        "!git clone https://github.com/ktaletsk/CPF.git; cp CPF/1D_Example/CPF-gen.cpp .; cp CPF/1D_Example/FPT-gen.cpp .; rm -rf CPF"
      ],
      "execution_count": 0,
      "outputs": []
    },
    {
      "metadata": {
        "id": "AvSLm2d4C_Lu",
        "colab_type": "code",
        "colab": {}
      },
      "cell_type": "code",
      "source": [
        "!ls"
      ],
      "execution_count": 0,
      "outputs": []
    },
    {
      "metadata": {
        "id": "Ie9jxUSfxKFj",
        "colab_type": "code",
        "colab": {}
      },
      "cell_type": "code",
      "source": [
        "#Compile Ito equation source files for given free energy and friction\n",
        "codegen((\"shift\",equation), \"C\", \"shift\", header=False, empty=False, to_files=True)\n",
        "codegen((\"init\",equation2), \"C\", \"init\", header=False, empty=False, to_files=True)"
      ],
      "execution_count": 0,
      "outputs": []
    },
    {
      "metadata": {
        "id": "6qYQfu-SxKFl",
        "colab_type": "code",
        "colab": {}
      },
      "cell_type": "code",
      "source": [
        "#Complie CPF code\n",
        "! g++ FPT-gen.cpp shift.c init.c -o FPT-gen\n",
        "! g++ CPF-gen.cpp shift.c init.c -o CPF-gen"
      ],
      "execution_count": 0,
      "outputs": []
    },
    {
      "metadata": {
        "id": "prcJia_pxKFo",
        "colab_type": "code",
        "colab": {}
      },
      "cell_type": "code",
      "source": [
        "#Run CPF simulation\n",
        "!./CPF-gen"
      ],
      "execution_count": 0,
      "outputs": []
    },
    {
      "metadata": {
        "collapsed": false,
        "id": "AfRmmYgUxKFq",
        "colab_type": "text"
      },
      "cell_type": "markdown",
      "source": [
        "## Processing CPF results"
      ]
    },
    {
      "metadata": {
        "id": "PHlPYJMlxKFr",
        "colab_type": "code",
        "colab": {}
      },
      "cell_type": "code",
      "source": [
        "with open('cpf.dat') as f:\n",
        "    lines = f.readlines()\n",
        "    x0 = np.array([float(line.split()[0]) for line in lines])\n",
        "    x0.sort()"
      ],
      "execution_count": 0,
      "outputs": []
    },
    {
      "metadata": {
        "id": "wfDBVedqxKFv",
        "colab_type": "code",
        "colab": {}
      },
      "cell_type": "code",
      "source": [
        "x0.shape[0]"
      ],
      "execution_count": 0,
      "outputs": []
    },
    {
      "metadata": {
        "id": "sfCZWlfExKF1",
        "colab_type": "code",
        "colab": {}
      },
      "cell_type": "code",
      "source": [
        "P = np.arange(0.0, 1.0, 1.0/x0.shape[0])"
      ],
      "execution_count": 0,
      "outputs": []
    },
    {
      "metadata": {
        "id": "J_dfqDGOxKF6",
        "colab_type": "code",
        "colab": {}
      },
      "cell_type": "code",
      "source": [
        "fig = plt.figure(figsize=(12, 9))\n",
        "ax1 = fig.add_subplot(111)\n",
        "ax1.set_title(\"Steady state probability density distribution\")\n",
        "ax1.set_xlabel(r'$x$')\n",
        "ax1.set_ylabel(r'$\\mathbb{P}^{ss}$')\n",
        "ax1.plot(x0,P, c='r', label=r'$f_d(t)$')\n",
        "plt.axvline(x=0, color='k', linestyle='--')\n",
        "plt.axvline(x=1,  color='k', linestyle='--')\n",
        "plt.show()"
      ],
      "execution_count": 0,
      "outputs": []
    },
    {
      "metadata": {
        "collapsed": false,
        "id": "EgsSzJpMxKF_",
        "colab_type": "text"
      },
      "cell_type": "markdown",
      "source": [
        "### Using [Kernel Density Estimation](http://scikit-learn.org/stable/modules/density.html) to find PDF in steady state"
      ]
    },
    {
      "metadata": {
        "id": "py_XOl1yxKGA",
        "colab_type": "code",
        "colab": {}
      },
      "cell_type": "code",
      "source": [
        "#Rule of thumb bandwith for kernel density estimstor\n",
        "h = 1.06*np.std(x0)*np.size(x0)**(-0.2)\n",
        "h"
      ],
      "execution_count": 0,
      "outputs": []
    },
    {
      "metadata": {
        "id": "I5RkkdtwxKGE",
        "colab_type": "code",
        "colab": {}
      },
      "cell_type": "code",
      "source": [
        "def myKernelDensity(x, h, xi):\n",
        "    return np.sum(np.exp(-(x-xi)**2/(2*h**2)))/len(xi)\n",
        "def myKernelDensityDerivative(x, h, xi):\n",
        "    return np.sum(-(x-xi)/h**2*np.exp(-(x-xi)**2/(2*h**2)))/len(xi)"
      ],
      "execution_count": 0,
      "outputs": []
    },
    {
      "metadata": {
        "id": "SghOUHy-xKGF",
        "colab_type": "code",
        "colab": {}
      },
      "cell_type": "code",
      "source": [
        "X_plot = np.linspace(0.0, 1.0, 1000)"
      ],
      "execution_count": 0,
      "outputs": []
    },
    {
      "metadata": {
        "scrolled": true,
        "id": "hgv0bcCtxKGI",
        "colab_type": "code",
        "colab": {}
      },
      "cell_type": "code",
      "source": [
        "mydens = [myKernelDensity(i, h, x0) for i in X_plot]"
      ],
      "execution_count": 0,
      "outputs": []
    },
    {
      "metadata": {
        "id": "NqYdgRyQxKGL",
        "colab_type": "code",
        "colab": {}
      },
      "cell_type": "code",
      "source": [
        "mydensder = [myKernelDensityDerivative(i, h, x0) for i in X_plot]"
      ],
      "execution_count": 0,
      "outputs": []
    },
    {
      "metadata": {
        "id": "60JJXoTmxKGN",
        "colab_type": "code",
        "colab": {}
      },
      "cell_type": "code",
      "source": [
        "fig2 = plt.figure(figsize=(12, 9))\n",
        "ax2 = fig2.add_subplot(111)\n",
        "ax2.set_title(\"Steady state probability density distribution\")\n",
        "ax2.set_xlabel(r'$x$')\n",
        "ax2.set_ylabel(r'$p^{ss}$')\n",
        "ax2.plot(X_plot, np.array(mydens)/np.sqrt(2*np.pi*h**2), c='r')\n",
        "plt.axvline(x=0, color='k', linestyle='--')\n",
        "plt.axvline(x=1,  color='k', linestyle='--')\n",
        "plt.show()"
      ],
      "execution_count": 0,
      "outputs": []
    },
    {
      "metadata": {
        "scrolled": true,
        "id": "rcWMHnU9xKGQ",
        "colab_type": "code",
        "colab": {}
      },
      "cell_type": "code",
      "source": [
        "pCG = lambdify(x[0], exp(-free_energy_CG(x))/simplify(integrate(exp(-free_energy_CG(x)),(x[0],-oo,oo))), \"sympy\")"
      ],
      "execution_count": 0,
      "outputs": []
    },
    {
      "metadata": {
        "id": "kKn9UOe8xKGS",
        "colab_type": "code",
        "colab": {}
      },
      "cell_type": "code",
      "source": [
        "PCG = lambdify(x[0], simplify(integrate(exp(-free_energy_CG(x)),(x[0],-oo,x[0])))/simplify(integrate(exp(-free_energy_CG(x)),(x[0],-oo,oo))), \"sympy\")"
      ],
      "execution_count": 0,
      "outputs": []
    },
    {
      "metadata": {
        "id": "xeyFhPUIxKGV",
        "colab_type": "code",
        "colab": {}
      },
      "cell_type": "code",
      "source": [
        "with open('flux.dat') as f:\n",
        "    lines = f.readlines()\n",
        "J0 = float(lines[-1].split()[1])/float(lines[-1].split()[0])"
      ],
      "execution_count": 0,
      "outputs": []
    },
    {
      "metadata": {
        "id": "FB6vSgNwxKGY",
        "colab_type": "code",
        "colab": {}
      },
      "cell_type": "code",
      "source": [
        "xr=1"
      ],
      "execution_count": 0,
      "outputs": []
    },
    {
      "metadata": {
        "scrolled": true,
        "id": "pmz4eQUGxKGc",
        "colab_type": "code",
        "colab": {}
      },
      "cell_type": "code",
      "source": [
        "arr1 = np.array([(N(PCG(xr))-N(PCG(xT)))/N(pCG(xT))/J0 for xT in X_plot], dtype=\"float\")"
      ],
      "execution_count": 0,
      "outputs": []
    },
    {
      "metadata": {
        "id": "ViP0Fs-PxKGf",
        "colab_type": "code",
        "colab": {}
      },
      "cell_type": "code",
      "source": [
        "N(PCG(2))"
      ],
      "execution_count": 0,
      "outputs": []
    },
    {
      "metadata": {
        "collapsed": false,
        "id": "1TcmqwhNxKHJ",
        "colab_type": "text"
      },
      "cell_type": "markdown",
      "source": [
        "## Friction"
      ]
    },
    {
      "metadata": {
        "collapsed": false,
        "id": "pthJR5XJxKHK",
        "colab_type": "text"
      },
      "cell_type": "markdown",
      "source": [
        "### 1. Friction from KDE of $p^{ss}$"
      ]
    },
    {
      "metadata": {
        "id": "65FfsXsExKHL",
        "colab_type": "code",
        "colab": {}
      },
      "cell_type": "code",
      "source": [
        "dFdx = lambdify(x[0],diff(free_energy_CG(x)))"
      ],
      "execution_count": 0,
      "outputs": []
    },
    {
      "metadata": {
        "id": "VQVXKektxKHN",
        "colab_type": "code",
        "colab": {}
      },
      "cell_type": "code",
      "source": [
        "actual_friction = lambdify(x[0],zeta_inv(n, x))"
      ],
      "execution_count": 0,
      "outputs": []
    },
    {
      "metadata": {
        "scrolled": true,
        "id": "pwPacCWyxKHQ",
        "colab_type": "code",
        "colab": {}
      },
      "cell_type": "code",
      "source": [
        "dFdX_arr = [dFdx(i) for i in X_plot]"
      ],
      "execution_count": 0,
      "outputs": []
    },
    {
      "metadata": {
        "scrolled": true,
        "id": "OexryGdkxKHS",
        "colab_type": "code",
        "colab": {}
      },
      "cell_type": "code",
      "source": [
        "friction = -(np.multiply(mydens,dFdX_arr)+mydensder)/J0/np.sqrt(2*np.pi*h**2)"
      ],
      "execution_count": 0,
      "outputs": []
    },
    {
      "metadata": {
        "id": "Xa-0U2VqxKHV",
        "colab_type": "code",
        "colab": {}
      },
      "cell_type": "code",
      "source": [
        "act_f = [1/actual_friction(i) for i in X_plot]"
      ],
      "execution_count": 0,
      "outputs": []
    },
    {
      "metadata": {
        "id": "Yzbun81IxKHX",
        "colab_type": "code",
        "colab": {}
      },
      "cell_type": "code",
      "source": [
        "fig5 = plt.figure(figsize=(12, 9))\n",
        "\n",
        "ax5 = fig5.add_subplot(111)\n",
        "\n",
        "ax5.set_title(\"Friction\")\n",
        "ax5.set_xlabel(r'$x$')\n",
        "ax5.set_ylabel(r'$\\zeta(x)/k_B T$')\n",
        "\n",
        "ax5.plot(X_plot, friction, c='k',label='KDE estimate')\n",
        "ax5.plot(X_plot, act_f, c='g', label='Actual friction')\n",
        "plt.axvline(x=h, color='r', linestyle='--')\n",
        "plt.axvline(x=xr-h, color='r', linestyle='--')\n",
        "plt.legend()\n",
        "plt.show()"
      ],
      "execution_count": 0,
      "outputs": []
    },
    {
      "metadata": {
        "collapsed": false,
        "id": "fU2rfI9vxKHc",
        "colab_type": "text"
      },
      "cell_type": "markdown",
      "source": [
        "### 2. Fitting friction with a sum of Chebyshev polynomials"
      ]
    },
    {
      "metadata": {
        "collapsed": false,
        "id": "YkJAmMg3xKHd",
        "colab_type": "text"
      },
      "cell_type": "markdown",
      "source": [
        "\\begin{equation}\n",
        "\\mathbb{P}^\\text{ss}(x) =\n",
        "\\int_{x_s}^{x}\n",
        " \\mathbb{P}^\\text{eq}(x')\n",
        " \\frac{\\tilde{\\zeta}(x')}{p^\\text{eq}(x')} dx' +\n",
        " \\mathbb{P}^\\text{eq}(x)\n",
        " \\int_{x}^{x_a}\n",
        " \\frac{\\tilde{\\zeta}(x')}{p^\\text{eq}(x')} dx'\n",
        "\\end{equation}\n",
        "where \n",
        "\\begin{equation}\n",
        "\\tilde{\\zeta}(x) := \\frac{J_0 \\zeta(x)}{k_\\text{B}T}\n",
        "\\end{equation}\n",
        "\n",
        "We fit friction with the sum of Chebychev's polynomials, so that\n",
        "\\begin{equation}\n",
        "\\tilde{\\zeta}(x) = \\sum_i c_i T_i(x)\n",
        "\\end{equation}\n",
        "\n",
        "\\begin{equation}\n",
        "\\mathbb{P}^\\text{ss}(x) = \\sum_i c_i \\left( \\int_{x_s}^{x}\n",
        " \\mathbb{P}^\\text{eq}(x')\n",
        " \\frac{T_i(x')}{p^\\text{eq}(x')} dx' +\n",
        " \\mathbb{P}^\\text{eq}(x)\n",
        " \\int_{x}^{x_a}\n",
        " \\frac{T_i(x')}{p^\\text{eq}(x')} dx' \\right) = \n",
        "\\sum_i c_i I_i(x)\n",
        "\\end{equation}\n",
        "\n",
        "We define the set of reference points $\\{ x_j \\}$ and solve matrix equation\n",
        "\\begin{equation}\n",
        "c_i I_i(x_j) = \\mathbb{P}^{ss}(x_j)\n",
        "\\end{equation}\n",
        "to find the set of weights $\\{c_i\\}$"
      ]
    },
    {
      "metadata": {
        "id": "XzuJuzlpxKHe",
        "colab_type": "code",
        "colab": {}
      },
      "cell_type": "code",
      "source": [
        "import scipy.integrate\n",
        "def integral1(n, lower, upper):\n",
        "    return scipy.integrate.quad(lambda x: PCG(x)*chebyshevt_poly(n,x)/pCG(x), lower, upper)[0]\n",
        "\n",
        "def integral2(n, lower, upper):\n",
        "    return scipy.integrate.quad(lambda x: chebyshevt_poly(n,x)/pCG(x), lower, upper)[0]\n",
        "\n",
        "def Pss_cheb(x, n, L0, La):\n",
        "    return integral1(n,L0,x)+N(PCG(x))*integral2(n,x,La)\n",
        "  \n",
        "# def PSS_func(x):\n",
        "  "
      ],
      "execution_count": 0,
      "outputs": []
    },
    {
      "metadata": {
        "id": "5HszurgaiDMc",
        "colab_type": "code",
        "colab": {}
      },
      "cell_type": "code",
      "source": [
        "from scipy.interpolate import interp1d\n",
        "PSS_func = interp1d(x0, P)"
      ],
      "execution_count": 0,
      "outputs": []
    },
    {
      "metadata": {
        "id": "MuK6tXfmibuy",
        "colab_type": "code",
        "colab": {}
      },
      "cell_type": "code",
      "source": [
        "PSS_func(0.5)"
      ],
      "execution_count": 0,
      "outputs": []
    },
    {
      "metadata": {
        "id": "3Q-Ij2z-xKHg",
        "colab_type": "code",
        "colab": {}
      },
      "cell_type": "code",
      "source": [
        "nmodes=7 #number of Chebyshev polynomials (starting from 0-th)\n",
        "npoints=500 #reference points in domain\n",
        "III = [[Pss_cheb(float(j)/npoints, i, 0, 1) for i in range(nmodes)] for j in range(npoints)]\n",
        "rhs = [PSS_func(float(j)/npoints) for j in range(npoints)]\n",
        "fit = np.linalg.lstsq(III, rhs, rcond=-1)[0]\n",
        "fit"
      ],
      "execution_count": 0,
      "outputs": []
    },
    {
      "metadata": {
        "id": "XTa-0TqQxKHn",
        "colab_type": "code",
        "colab": {}
      },
      "cell_type": "code",
      "source": [
        "fig = plt.figure(figsize=(12, 9))\n",
        "\n",
        "ax1 = fig.add_subplot(111)\n",
        "\n",
        "ax1.set_title(\"Steady state probability density distribution (Chebychev fit)\")\n",
        "# ax1.set_xlabel(r'$t/\\tau_c$')\n",
        "# ax1.set_ylabel(r'$f_d(t)$')\n",
        "\n",
        "ax1.plot(x0,P, c='r', label=r'$f_d(t)$')\n",
        "ax1.plot(np.arange(float(npoints))/npoints, [sum([fit[i]*Pss_cheb(float(j)/npoints, i, 0, 1) for i in range(nmodes)]) for j in range(npoints)], c='k', label='Chebychev approximation')\n",
        "\n",
        "\n",
        "#plt.xlim(xmin=-1.1, xmax=-0.9)\n",
        "#plt.ylim(ymin=0, ymax=0.05)\n",
        "# leg = ax1.legend()\n",
        "#ax1.set_xscale('log')\n",
        "# ax1.set_yscale('log')\n",
        "\n",
        "plt.show()"
      ],
      "execution_count": 0,
      "outputs": []
    },
    {
      "metadata": {
        "id": "5GabRVejxKHq",
        "colab_type": "code",
        "colab": {}
      },
      "cell_type": "code",
      "source": [
        "cheb_friction = [sum([fit[i]*chebyshevt_poly(i,j)/J0 for i in range(nmodes)]) for j in X_plot]"
      ],
      "execution_count": 0,
      "outputs": []
    },
    {
      "metadata": {
        "id": "OPGmQvmMxKHu",
        "colab_type": "code",
        "colab": {}
      },
      "cell_type": "code",
      "source": [
        "fig5 = plt.figure(figsize=(12, 9))\n",
        "\n",
        "ax5 = fig5.add_subplot(111)\n",
        "\n",
        "ax5.set_title(\"Friction\")\n",
        "ax5.set_xlabel(r'$x_0$')\n",
        "ax5.set_ylabel(r'$\\zeta(x_0)/k_B T$')\n",
        "\n",
        "ax5.plot(X_plot, friction, c='k', label='KDE friction')\n",
        "ax5.plot(X_plot, cheb_friction, c='r', label='Chebychev friction')\n",
        "ax5.plot(X_plot, act_f, c='g', label='Actual friction')\n",
        "leg = ax5.legend()\n",
        "\n",
        "plt.show()"
      ],
      "execution_count": 0,
      "outputs": []
    },
    {
      "metadata": {
        "id": "X9h4pASWv1VV",
        "colab_type": "text"
      },
      "cell_type": "markdown",
      "source": [
        "**This is it! Feel free now to try different friction function and/or free energy for this system**"
      ]
    }
  ]
}