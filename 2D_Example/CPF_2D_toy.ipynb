{
  "nbformat": 4,
  "nbformat_minor": 0,
  "metadata": {
    "colab": {
      "name": "2D Example",
      "version": "0.3.2",
      "provenance": [],
      "collapsed_sections": [],
      "include_colab_link": true
    },
    "kernelspec": {
      "name": "python3",
      "display_name": "Python 3"
    }
  },
  "cells": [
    {
      "cell_type": "markdown",
      "metadata": {
        "id": "view-in-github",
        "colab_type": "text"
      },
      "source": [
        "[View in Colaboratory](https://colab.research.google.com/github/ktaletsk/CPF/blob/master/2D_Example/CPF_2D_toy.ipynb)"
      ]
    },
    {
      "metadata": {
        "id": "dwUUUgKDmFR4",
        "colab_type": "code",
        "colab": {},
        "cellView": "form"
      },
      "cell_type": "code",
      "source": [
        "#@title ##Initialize notebook (run this cell, CTRL+SHIFT)\n",
        "from sympy import *\n",
        "from sympy.utilities.codegen import codegen\n",
        "import numpy as np\n",
        "from IPython.display import Markdown\n",
        "import matplotlib.pyplot as plt\n",
        "# import scipy.integrate as integrate\n",
        "from IPython.display import HTML, Math\n",
        "from sympy.utilities.lambdify import lambdify\n",
        "\n",
        "def latex_print(expr):\n",
        "  display(HTML(\"<script src='https://cdnjs.cloudflare.com/ajax/libs/mathjax/2.7.3/\" \"latest.js?config=default'></script>\"))\n",
        "  return Math(latex(expr))\n",
        "\n",
        "#Number of dimensions\n",
        "n=2"
      ],
      "execution_count": 0,
      "outputs": []
    },
    {
      "metadata": {
        "id": "1HJWQkn_t8Ze",
        "colab_type": "text"
      },
      "cell_type": "markdown",
      "source": [
        "We are working with 2-dimensional system with free energy in a form:\n",
        "\\begin{equation}\n",
        "\\frac{F(x,y)}{k_B T} = 4(1-x)^2 + 4 \\left(y - \\frac{\\sin a(x-c)}{b}\\right)^2\n",
        "\\end{equation}\n",
        "And friction in the detailed model is the same everywhere:\n",
        "\\begin{equation}\n",
        "\\frac{\\zeta(x,y)}{k_B T} = 1\n",
        "\\end{equation}\n",
        "\n",
        "You can choose parameters for this system below by draging sliders for $a$, $b$ and $c$"
      ]
    },
    {
      "metadata": {
        "id": "0-tfODvvrroo",
        "colab_type": "code",
        "colab": {}
      },
      "cell_type": "code",
      "source": [
        "#@title Choose frequency, amplitude and phase of walls { display-mode: \"form\", run: \"auto\" }\n",
        "a = 12 #@param {type:\"slider\", default:8, min:1, max:12, step:0.1}\n",
        "b = 1.71 #@param {type:\"slider\", default:0.1, min:0.01, max:2, step:0.1}\n",
        "c = -2.2 #@param {type:\"slider\", default:0, min:-5, max:5, step:0.1}\n",
        "\n",
        "A = [a]\n",
        "B = [b]\n",
        "C = [c]\n",
        "H = [4, 4]\n",
        "\n",
        "#Define variables\n",
        "x = symbols('x0:%d'%n)\n",
        "\n",
        "def floor(x,A,B,C):\n",
        "    return sin(A*(x-C))/B\n",
        "\n",
        "def wall(x,y,A,B,C):\n",
        "    return (y - floor(x,A,B,C))**2\n",
        "\n",
        "def free_energy(n, x):\n",
        "    result = H[0]*(1-x[0])**2\n",
        "    for i in range(1, n):\n",
        "        result += H[i] * wall(x[0], x[i], A[i-1], B[i-1], C[i-1])\n",
        "    return result\n",
        "\n",
        "def free_energy_CG(x):\n",
        "    return H[0]*(1-x[0])**2\n",
        "\n",
        "def zeta_inv(n, x):\n",
        "    return 1 #Constant friction\n",
        "\n",
        "def tshift(n,x,i):\n",
        "    return diff(zeta_inv(n,x), x[i])-zeta_inv(n, x)*diff(free_energy(n,x), x[i])\n",
        "\n",
        "def wshift(n,x):\n",
        "    return sqrt(2.0*zeta_inv(n, x))\n",
        "\n",
        "\n",
        "func = lambdify(x, free_energy(n, x),'numpy') # returns a numpy-ready function\n",
        "Xplot = np.arange(0,2,0.01)\n",
        "Yplot = np.arange(-5,5,0.01)\n",
        "X, Y = np.meshgrid(Xplot, Yplot)\n",
        "F = func(X, Y)\n",
        "fig = plt.figure(figsize=(10, 8))\n",
        "ax1 = fig.add_subplot(111)\n",
        "CS3 = plt.contourf(X, Y, F, 100, cmap=plt.cm.hot)\n",
        "fig.colorbar(CS3, ax=ax1)\n",
        "ax1.set_title(r'$\\frac{F}{k_B T}$')\n",
        "ax1.set_xlabel(r'$x$')\n",
        "ax1.set_ylabel(r'$y$')\n",
        "for item in ([ax1.title, ax1.xaxis.label, ax1.yaxis.label] +\n",
        "             ax1.get_xticklabels() + ax1.get_yticklabels()):\n",
        "    item.set_fontsize(20)\n",
        "plt.show()\n",
        "latex_print(r'\\frac{F}{k_B T} =' + latex(free_energy(n, x)))"
      ],
      "execution_count": 0,
      "outputs": []
    },
    {
      "metadata": {
        "id": "RsWoEj8v2Qzd",
        "colab_type": "text"
      },
      "cell_type": "markdown",
      "source": [
        "You can see the free energy lanscape for detailed model from above, darker regions represent low free energy, bright regions represent high free energy and pose obstacles for diffusing Brownian particles"
      ]
    },
    {
      "metadata": {
        "id": "tzl4otYlzIQ7",
        "colab_type": "code",
        "colab": {}
      },
      "cell_type": "code",
      "source": [
        ""
      ],
      "execution_count": 0,
      "outputs": []
    }
  ]
}